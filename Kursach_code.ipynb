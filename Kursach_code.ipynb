{
 "cells": [
  {
   "cell_type": "code",
   "execution_count": 2,
   "metadata": {},
   "outputs": [],
   "source": [
    "import re\n",
    "\n",
    "#вспомагательные функции сортировки по степеням и записи в виде массива полинома записанного в  виде строки\n",
    "def partition(arr, low, high):\n",
    "    i = (low - 1)\n",
    "    pivot = arr[high][1]\n",
    "    for j in range(low, high):\n",
    "        if arr[j][1] >= pivot:\n",
    "            i = i + 1\n",
    "            arr[i], arr[j] = arr[j], arr[i]\n",
    "    arr[i + 1], arr[high] = arr[high], arr[i + 1]\n",
    "    return (i + 1)\n",
    "def qsort(arr, low, high):\n",
    "    if len(arr) == 1:\n",
    "        return arr\n",
    "    if low < high:\n",
    "        pi = partition(arr, low, high)\n",
    "        qsort(arr, low, pi - 1)\n",
    "        qsort(arr, pi + 1, high)\n",
    "\n",
    "\n",
    "\n",
    "\n",
    "def dict_poli(poli):\n",
    "    poli = poli.replace(' ', '')\n",
    "    poli = poli.split('+')\n",
    "    temp = []\n",
    "    for i in range(len(poli)):\n",
    "        t = re.findall('\\d+', poli[i])\n",
    "\n",
    "        if len(t)>2:\n",
    "            print('polinom is not correct try again!')\n",
    "            return -1\n",
    "        for j in range(len(t)):\n",
    "            t[j] = int(t[j])\n",
    "        if len(t) == 1 and re.match(r' *\\D+\\d+', poli[i]) != None:\n",
    "            t.insert(0, 1)\n",
    "        if len(t) == 1 and re.match(r' *\\d+', poli[i]) != None and re.match(r' *\\d+\\D+', poli[i]) == None:\n",
    "            t.append(0)\n",
    "        if len(t) == 1 and re.match(r' *\\d+\\D+', poli[i]) != None:\n",
    "            t.append(1)\n",
    "        if len(t) == 0 and re.match(r' *\\D', poli[i]) != None:\n",
    "            t = [1, 1]\n",
    "        temp.append(t)\n",
    "    return temp\n",
    "\n"
   ]
  },
  {
   "cell_type": "code",
   "execution_count": 5,
   "metadata": {},
   "outputs": [
    {
     "data": {
      "text/plain": [
       "[[1, 1], [1, 3], [1, 0]]"
      ]
     },
     "execution_count": 5,
     "metadata": {},
     "output_type": "execute_result"
    }
   ],
   "source": [
    "Qx = 'x + x^3 + 1'\n",
    "sx = 'x^2 + x + 1'\n",
    "Qx = dict_poli(Qx)\n",
    "sx = dict_poli(sx)\n",
    "Qx"
   ]
  },
  {
   "cell_type": "code",
   "execution_count": 8,
   "metadata": {},
   "outputs": [
    {
     "data": {
      "text/plain": [
       "[[1, 3], [1, 1], [1, 0]]"
      ]
     },
     "execution_count": 8,
     "metadata": {},
     "output_type": "execute_result"
    }
   ],
   "source": [
    "qsort(Qx, 0, len(Qx)-1)\n",
    "Qx"
   ]
  },
  {
   "cell_type": "code",
   "execution_count": 11,
   "metadata": {},
   "outputs": [],
   "source": [
    "def multiply_poli(p1, p2):\n",
    "    temp = []\n",
    "    for i in range(len(p1)):\n",
    "        for j in range(len(p2)):\n",
    "            temp1 = [p1[i][0] * p2[j][0], p1[i][1] + p2[j][1]]\n",
    "            if i == 0 and j == 0:\n",
    "                temp.append(temp1)\n",
    "            else:\n",
    "                i1 = 0\n",
    "                while i1 <len(temp):\n",
    "                    if temp[i1][1] == temp1[1]:\n",
    "                        temp[i1][0] += temp1[0]\n",
    "                        break\n",
    "                    if i1 == len(temp)-1:\n",
    "                        temp.append(temp1)\n",
    "                        break\n",
    "                    i1 +=1\n",
    "    return temp\n",
    "\n",
    "def divission(p, Qx):\n",
    "    qsort(Qx, 0, len(Qx)-1)\n",
    "    qsort(p, 0, len(p)-1)\n",
    "    while True:\n",
    "        if p[0][1] > Qx[0][1]:\n",
    "            k = [p[0][0] / Qx[0][0], p[0][1] - Qx[0][1]]\n",
    "            del p[0]\n",
    "            for i in range(1, len(Qx), 1):\n",
    "                for j in range(len(p)):\n",
    "                    if Qx[i][1] + k[1] == p[j][1]:\n",
    "                        p[j][0] = p[j][0] - Qx[i][0] * k[0]\n",
    "                        break\n",
    "                    if Qx[i][1] + k[1] >= p[j][1]:\n",
    "                        p.insert(j, [-Qx[i][0] * k[0], Qx[i][1] + k[1]])\n",
    "                        break\n",
    "        j = 0\n",
    "        while j <len(p):\n",
    "            if p[j][0] == 0:\n",
    "                del p[j]\n",
    "                j -= 1\n",
    "            j+=1\n",
    "        if p[0][1] == Qx[0][1]:\n",
    "            for i in range(len(p)):\n",
    "                if p[i][1] > Qx[i][1]:\n",
    "                    k = p[0][0] / Qx[0][0]\n",
    "                    del (p[0])\n",
    "                    for i in range(1, len(Qx), 1):\n",
    "                        for j in range(len(p)):\n",
    "                            if Qx[i][1] == p[j][1]:\n",
    "                                p[j][0] = p[j][0] - Qx[i][0] * k\n",
    "                                break\n",
    "                            if Qx[i][1] >= p[j][1]:\n",
    "                                p.insert(j, [-Qx[i][0] * k, Qx[i][1]])\n",
    "                                break\n",
    "                    j = 0\n",
    "                    while j < len(p):\n",
    "                        if p[j][0] == 0:\n",
    "                            del p[j]\n",
    "                            j -= 1\n",
    "                        j += 1\n",
    "                    break\n",
    "            break\n",
    "        if p[0][1] < Qx[0][1]:\n",
    "            break\n",
    "    return p\n",
    "\n",
    "\n"
   ]
  },
  {
   "cell_type": "code",
   "execution_count": 13,
   "metadata": {},
   "outputs": [
    {
     "data": {
      "text/plain": [
       "[[1, 6], [1, 4], [1, 3], [1, 1]]"
      ]
     },
     "execution_count": 13,
     "metadata": {},
     "output_type": "execute_result"
    }
   ],
   "source": [
    "p = [[[1, 2], [1, 0]], [[1, 2], [1, 1], [1, 0]], [[1, 2], [1, 1]]]\n",
    "m = 3\n",
    "q = 2\n",
    "'''p = [P1 = x^2 + 1, P2 = x^2 + x + 1, P3 = x^2 + x]\n",
    "массив всех полиномов Pi'''\n",
    "startp = p[0]\n",
    "for i in range(m-1):\n",
    "    startp = multiply_poli(startp, p[i+1])\n",
    "#кусок кода ниже нужен чтобы поместить результат умножения полиновов в поле Галуа \n",
    "for i in range(len(startp)):\n",
    "    if startp[i][0] >= 0:\n",
    "        startp[i][0] = startp[i][0] % q\n",
    "    else:\n",
    "        startp[i][0] = q - startp[i][0] % q\n",
    "j = 0\n",
    "while j < len(startp):\n",
    "    if startp[j][0] == 0:\n",
    "        del startp[j]\n",
    "        j -= 1\n",
    "    j += 1\n",
    "startp# startp - результат умножения полиномов Pi"
   ]
  },
  {
   "cell_type": "code",
   "execution_count": 15,
   "metadata": {},
   "outputs": [
    {
     "data": {
      "text/plain": [
       "[[1, 1]]"
      ]
     },
     "execution_count": 15,
     "metadata": {},
     "output_type": "execute_result"
    }
   ],
   "source": [
    "ans = divission(startp, Qx) #операция деления полинома полученого умножением на полином Qx\n",
    "#кусок кода ниже нужен чтобы поместить результат деления полиновов в поле Галуа\n",
    "for i in range(len(ans)):\n",
    "    if ans[i][0] >= 0:\n",
    "        ans[i][0] = ans[i][0] % q\n",
    "    else:\n",
    "        ans[i][0] = q - ans[i][0] % q\n",
    "j = 0\n",
    "while j < len(ans):\n",
    "    if ans[j][0] == 0:\n",
    "        del ans[j]\n",
    "        j -= 1\n",
    "    j += 1\n",
    "ans"
   ]
  },
  {
   "cell_type": "code",
   "execution_count": 16,
   "metadata": {},
   "outputs": [],
   "source": [
    "def find_px(m, Qx, q, p):\n",
    "    startp = p[0]\n",
    "    for i in range(m-1):\n",
    "        startp = multiply_poli(startp, p[i+1])\n",
    "    for i in range(len(startp)):\n",
    "        if startp[i][0] >= 0:\n",
    "            startp[i][0] = startp[i][0] % q\n",
    "        else:\n",
    "            startp[i][0] = q - startp[i][0] % q\n",
    "    j = 0\n",
    "    while j < len(startp):\n",
    "        if startp[j][0] == 0:\n",
    "            del startp[j]\n",
    "            j -= 1\n",
    "        j += 1\n",
    "    ans = divission(startp, Qx)\n",
    "    for i in range(len(ans)):\n",
    "        if ans[i][0] >= 0:\n",
    "            ans[i][0] = ans[i][0] % q\n",
    "        else:\n",
    "            ans[i][0] = q - ans[i][0] % q\n",
    "    j = 0\n",
    "    while j < len(ans):\n",
    "        if ans[j][0] == 0:\n",
    "            del ans[j]\n",
    "            j -= 1\n",
    "        j += 1\n",
    "    return ans"
   ]
  },
  {
   "cell_type": "code",
   "execution_count": 17,
   "metadata": {},
   "outputs": [],
   "source": [
    "def encrypt(q, m, Qx, sx, p):\n",
    "    Qx = dict_poli(Qx)\n",
    "    Px = find_px(m, Qx, q, p)\n",
    "    code = dict_poli(sx)\n",
    "    qsort(Px, 0, len(Px) - 1)\n",
    "    qsort(code, 0, len(code) - 1)\n",
    "    for j in range(len(Px)):\n",
    "        i = 0\n",
    "        while i < len(code):\n",
    "            if code[i][1] == Px[j][1]:\n",
    "                code[i][0] = (code[i][0] - Px[j][0])\n",
    "                if code[i][0] >= 0:\n",
    "                    code[i][0] = code[i][0] % q\n",
    "                else:\n",
    "                    code[i][0] = q + code[i][0] % q\n",
    "                break\n",
    "            elif code[i][1] != Px[j][1] and i == len(code)-1:\n",
    "                code.append(Px[j])\n",
    "                i+=1\n",
    "                if code[i][0] >= 0:\n",
    "                    code[i][0] = code[i][0] % q\n",
    "                else:\n",
    "                    code[i][0] = q + code[i][0] % q\n",
    "                break\n",
    "            i+=1\n",
    "    j = 0\n",
    "    while j < len(code):\n",
    "        if code[j][0] == 0:\n",
    "            del code[j]\n",
    "            j -= 1\n",
    "        j += 1\n",
    "    qsort(code, 0, len(code)-1)\n",
    "    return code\n",
    "\n",
    "def decrypt(q, m, code, Qx, p):\n",
    "    Qx = dict_poli(Qx)\n",
    "    Px = find_px(m, Qx, q, p)\n",
    "    for j in range(len(Px)):\n",
    "        i = 0\n",
    "        while i < len(code):\n",
    "            if code[i][1] == Px[j][1]:\n",
    "                code[i][0] = (code[i][0] - Px[j][0])\n",
    "                if code[i][0] >= 0:\n",
    "                    code[i][0] = code[i][0] % q\n",
    "                else:\n",
    "                    code[i][0] = q + code[i][0] % q\n",
    "                break\n",
    "            elif code[i][1] != Px[j][1] and i == len(code) - 1:\n",
    "                code.append(Px[j])\n",
    "                i += 1\n",
    "                if code[i][0] >= 0:\n",
    "                    code[i][0] = code[i][0] % q\n",
    "                else:\n",
    "                    code[i][0] = q + code[i][0] % q\n",
    "                break\n",
    "            i += 1\n",
    "    j = 0\n",
    "    while j < len(code):\n",
    "        if code[j][0] == 0:\n",
    "            del code[j]\n",
    "            j -= 1\n",
    "        j += 1\n",
    "    qsort(code, 0, len(code)-1)\n",
    "    return code\n",
    "def show(poli):\n",
    "    l = ''\n",
    "    for p in poli:\n",
    "        l = l + str(p[0]) + '*x^' + str(p[1]) + '+'\n",
    "    print(l)\n",
    "    return 0\n"
   ]
  },
  {
   "cell_type": "code",
   "execution_count": 18,
   "metadata": {},
   "outputs": [
    {
     "name": "stdout",
     "output_type": "stream",
     "text": [
      "1*x^2+1*x^0+\n",
      "1*x^2+1*x^1+1*x^0+\n"
     ]
    },
    {
     "data": {
      "text/plain": [
       "0"
      ]
     },
     "execution_count": 18,
     "metadata": {},
     "output_type": "execute_result"
    }
   ],
   "source": [
    "q =2\n",
    "d=2\n",
    "m=3\n",
    "Qx = 'x^3 + x + 1'\n",
    "sx = 'x^2 + x + 1'\n",
    "p = [[[1, 2], [1, 0]], [[1, 2], [1, 1], [1, 0]], [[1, 2], [1, 1]]]\n",
    "enc = encrypt(q, m, Qx, sx, p)\n",
    "show(enc)\n",
    "dec = decrypt(q, m, enc, Qx, p)\n",
    "show(dec)"
   ]
  },
  {
   "cell_type": "code",
   "execution_count": null,
   "metadata": {},
   "outputs": [],
   "source": [
    "q = int(input('q = '))\n",
    "d = int(input('d = '))\n",
    "m = int(input('m = '))\n",
    "Qx = input('Q(x) = ')\n",
    "sx = input('Secret s = ')\n",
    "p = []\n",
    "i = 0\n",
    "while i < m:\n",
    "    pi = dict_poli(input('P{} = '.format(i)))\n",
    "    qsort(pi, 0, len(pi)-1)\n",
    "    if pi[0][1] <= d:\n",
    "        p.append(pi)\n",
    "        i += 1\n",
    "enc = encrypt(q, m, Qx, sx, p)\n",
    "show(enc)\n",
    "dec = decrypt(q, m, enc, Qx, p)\n",
    "show(dec)"
   ]
  }
 ],
 "metadata": {
  "kernelspec": {
   "display_name": "Python 3",
   "language": "python",
   "name": "python3"
  },
  "language_info": {
   "codemirror_mode": {
    "name": "ipython",
    "version": 3
   },
   "file_extension": ".py",
   "mimetype": "text/x-python",
   "name": "python",
   "nbconvert_exporter": "python",
   "pygments_lexer": "ipython3",
   "version": "3.8.9"
  }
 },
 "nbformat": 4,
 "nbformat_minor": 2
}
